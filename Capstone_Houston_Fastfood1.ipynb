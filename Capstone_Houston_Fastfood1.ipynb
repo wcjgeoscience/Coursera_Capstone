{
 "cells": [
  {
   "cell_type": "markdown",
   "metadata": {
    "button": false,
    "deletable": true,
    "new_sheet": false,
    "run_control": {
     "read_only": false
    }
   },
   "source": [
    "<h1 align=center><font size = 5>Identifying Fast Food Franchise Restaurants in Houston, Texas to pursue for purchase</font></h1>"
   ]
  },
  {
   "cell_type": "markdown",
   "metadata": {
    "button": false,
    "deletable": true,
    "new_sheet": false,
    "run_control": {
     "read_only": false
    }
   },
   "source": [
    "   "
   ]
  },
  {
   "cell_type": "markdown",
   "metadata": {
    "button": false,
    "deletable": true,
    "new_sheet": false,
    "run_control": {
     "read_only": false
    }
   },
   "source": [
    "### Applied Data Science Capstone Project by Joe McReynolds\n",
    "\n",
    "The goal of the project is to identify poorly rated fast-food, franchise restaurants that are the best canditates to purchase and turn around to profitability. A work flow utilizing Foursquare data will be designed and executed. The results will be reported with emphasis on visual displays."
   ]
  },
  {
   "cell_type": "markdown",
   "metadata": {
    "button": false,
    "deletable": true,
    "new_sheet": false,
    "run_control": {
     "read_only": false
    }
   },
   "source": [
    "## Table of Contents\n",
    "\n",
    "1. <a href=\"#item1\">Introduction / Business Problem</a>\n",
    "2. <a href=\"#item2\">Data</a>  \n",
    "3. <a href=\"#item3\"> </a>  \n",
    "4. <a href=\"#item4\"> </a>  \n",
    "5. <a href=\"#item5\"> </a>  "
   ]
  },
  {
   "cell_type": "markdown",
   "metadata": {
    "button": false,
    "deletable": true,
    "new_sheet": false,
    "run_control": {
     "read_only": false
    }
   },
   "source": [
    "### Introduction / Business Problem"
   ]
  },
  {
   "cell_type": "markdown",
   "metadata": {
    "button": false,
    "new_sheet": false,
    "run_control": {
     "read_only": false
    }
   },
   "source": [
    "The business problem is identifying distressed or underperforming “fast food” franchise restaurants in Houston, Texas for restaurant investors to purchase and turn around to profitability. The plan is to leverage Foursquare location data to design a work flow that helps commercial real estate investors locate “fast food” franchise restaurants to purchase for investment.\n",
    "\n",
    "1. Underperforming or poorly rated restaurants will be located. The focus is on poorly rated restaurants because they are likely to cost less to purchase than high performing properties and be available.\n",
    "\n",
    "2. From that low performing group, restaurants that have the most promise of becoming higher rated, profitable properties for the investor will identified by evaluating how that specific franchise typically performs in the type of neighborhood in which it is located in Houston. The Foursquare data service is well suited for this task because it not only locates the properties but also contains venue statistics and ratings for each restaurant.\n",
    "\n",
    "The value of the project is to give investors another piece of evidence to add to their decision process and should improve their chance of buying the underperforming business that will become profitable."
   ]
  },
  {
   "cell_type": "markdown",
   "metadata": {
    "button": false,
    "new_sheet": false,
    "run_control": {
     "read_only": false
    }
   },
   "source": [
    "### Data"
   ]
  },
  {
   "cell_type": "markdown",
   "metadata": {
    "button": false,
    "new_sheet": false,
    "run_control": {
     "read_only": false
    }
   },
   "source": [
    "Two main data sources will be used in the project. FourSquare data will be combined with local Houston neighborhood data found in web research to complete the project .\n",
    "\n",
    "1) The Houston neighborhood data will be used to segment Houston into areas that through cluster analysis will be grouped into neighborhoods with similar venues found in the Foursquare data. "
   ]
  },
  {
   "cell_type": "markdown",
   "metadata": {},
   "source": [
    "Information on Houston neighborhoods is located at the following web page:\n",
    "https://en.wikipedia.org/wiki/List_of_Houston_neighborhoods\n",
    "\n",
    "The necessary neighborhood info will be scraped from this web page, and latitude longitude will be generated using geocoder packages imported from the geopy library."
   ]
  },
  {
   "cell_type": "markdown",
   "metadata": {},
   "source": [
    "#### 88 \"super\" neighborhoods exist in the Houston area.\n",
    "Those neighborhoods or some subset, if time runs short, will be used as the neighborhood groupings for this analysis."
   ]
  },
  {
   "cell_type": "markdown",
   "metadata": {},
   "source": [
    "<img src = \"https://upload.wikimedia.org/wikipedia/commons/thumb/c/c2/Houston_superneighborhoods.png/1000px-Houston_superneighborhoods.png\" width = 800, align = \"center\" alt=\"logistic regression block diagram\" />"
   ]
  },
  {
   "cell_type": "markdown",
   "metadata": {
    "button": false,
    "new_sheet": false,
    "run_control": {
     "read_only": false
    }
   },
   "source": [
    "2) Foursquare data will used in multiple parts of the workflow and several examples of the data will be shown below to help illustrate what specific aspects of the FourSquare data will be utilized. \n",
    "\n",
    "In preparation for cluster analysis to group similar neighboroods, Foursquare Data will be gathered for each neighborhood focusing on category elements of the venue data within the FourSquare database. The neighborhoods will be compared based on the types of venue categories and those categories prevalence, See a small data example below in he Spring Branch area."
   ]
  },
  {
   "cell_type": "markdown",
   "metadata": {
    "button": false,
    "new_sheet": false,
    "run_control": {
     "read_only": false
    }
   },
   "source": [
    "The Foursquare data service is well suited for this task because it not only locates the properties but also contains venue statistics and ratings for each restaurant. Further below, two samples of the data will be displayed to show what the FourSquare data can look like."
   ]
  },
  {
   "cell_type": "markdown",
   "metadata": {},
   "source": [
    "#### You will need to scroll  down through some actual Pre-processing steps to see the actual data examples "
   ]
  },
  {
   "cell_type": "markdown",
   "metadata": {},
   "source": [
    "### First libraries need to be set up and imported"
   ]
  },
  {
   "cell_type": "code",
   "execution_count": 3,
   "metadata": {
    "button": false,
    "deletable": true,
    "new_sheet": false,
    "run_control": {
     "read_only": false
    }
   },
   "outputs": [
    {
     "name": "stdout",
     "output_type": "stream",
     "text": [
      "Folium installed\n",
      "Libraries imported.\n"
     ]
    }
   ],
   "source": [
    "import requests # library to handle requests\n",
    "import pandas as pd # library for data analsysis\n",
    "import numpy as np # library to handle data in a vectorized manner\n",
    "pd.set_option('display.max_columns', None)\n",
    "pd.set_option('display.max_rows', None)\n",
    "\n",
    "from pandas.io.json import json_normalize # tranform JSON file into a pandas dataframe\n",
    "from geopy.geocoders import Nominatim # module to convert an address into latitude and longitude values\n",
    "\n",
    "# libraries for displaying images\n",
    "from IPython.display import Image \n",
    "from IPython.core.display import HTML \n",
    "\n",
    "import json # library to handle JSON files\n",
    "# tranforming json file into a pandas dataframe library\n",
    "from pandas.io.json import json_normalize\n",
    "\n",
    "# import k-means from clustering stage\n",
    "from sklearn.cluster import KMeans\n",
    "\n",
    "# Matplotlib and associated plotting modules\n",
    "import matplotlib.cm as cm\n",
    "import matplotlib.colors as colors\n",
    "import matplotlib.pyplot as plt\n",
    "#%matplotlib inline \n",
    "\n",
    "#!conda install -c conda-forge folium=0.5.0 --yes\n",
    "import folium # plotting library\n",
    "\n",
    "print('Folium installed')\n",
    "print('Libraries imported.')"
   ]
  },
  {
   "cell_type": "markdown",
   "metadata": {
    "button": false,
    "deletable": true,
    "new_sheet": false,
    "run_control": {
     "read_only": false
    }
   },
   "source": [
    "### Next to Define Foursquare Credentials and Version"
   ]
  },
  {
   "cell_type": "markdown",
   "metadata": {
    "button": false,
    "deletable": true,
    "new_sheet": false,
    "run_control": {
     "read_only": false
    }
   },
   "source": [
    "##### Get my Foursquare developer account and have your credentials handy"
   ]
  },
  {
   "cell_type": "code",
   "execution_count": 31,
   "metadata": {
    "button": false,
    "collapsed": false,
    "deletable": true,
    "jupyter": {
     "outputs_hidden": false
    },
    "new_sheet": false,
    "run_control": {
     "read_only": false
    }
   },
   "outputs": [
    {
     "name": "stdout",
     "output_type": "stream",
     "text": [
      "Your credentails:\n",
      "CLIENT_ID: TE0PG2YHTFN3QLWZM5ET0O0EGQX1XNEJJECQRZJVWXAG4G10\n",
      "CLIENT_SECRET:CWPXUWBN55NCV0IBFRH3VPMX4JZM4UOKLXL2VWAZT0HU01FM\n"
     ]
    }
   ],
   "source": [
    "CLIENT_ID = 'TE0PG2YHTFN3QLWZM5ET0O0EGQX1XNEJJECQRZJVWXAG4G10' # your Foursquare ID\n",
    "CLIENT_SECRET = 'CWPXUWBN55NCV0IBFRH3VPMX4JZM4UOKLXL2VWAZT0HU01FM' # your Foursquare Secret\n",
    "VERSION = '20180605'\n",
    "LIMIT = 300\n",
    "print('Your credentails:')\n",
    "print('CLIENT_ID: ' + CLIENT_ID)\n",
    "print('CLIENT_SECRET:' + CLIENT_SECRET)"
   ]
  },
  {
   "cell_type": "markdown",
   "metadata": {
    "button": false,
    "deletable": true,
    "new_sheet": false,
    "run_control": {
     "read_only": false
    }
   },
   "source": [
    "  "
   ]
  },
  {
   "cell_type": "markdown",
   "metadata": {
    "button": false,
    "deletable": true,
    "new_sheet": false,
    "run_control": {
     "read_only": false
    }
   },
   "source": [
    "### Get latitude and longitude coordinates Spring Branch in Houston, TX."
   ]
  },
  {
   "cell_type": "markdown",
   "metadata": {},
   "source": [
    "In order to define an instance of the geocoder, we need to define a user_agent. We will name our agent <em>foursquare_agent</em>, as shown below."
   ]
  },
  {
   "cell_type": "code",
   "execution_count": 33,
   "metadata": {
    "button": false,
    "collapsed": false,
    "deletable": true,
    "jupyter": {
     "outputs_hidden": false
    },
    "new_sheet": false,
    "run_control": {
     "read_only": false
    }
   },
   "outputs": [
    {
     "name": "stdout",
     "output_type": "stream",
     "text": [
      "29.7998786 -95.5111698\n"
     ]
    }
   ],
   "source": [
    "address = 'Spring Branch Houston, TX'\n",
    "\n",
    "geolocator = Nominatim(user_agent=\"jam_agent\")\n",
    "location = geolocator.geocode(address)\n",
    "latitude = location.latitude\n",
    "longitude = location.longitude\n",
    "print(latitude, longitude)"
   ]
  },
  {
   "cell_type": "markdown",
   "metadata": {},
   "source": [
    "### Now, get the top 100 venues for Spring Branch, Houston, TX within a radius of 1000 meters."
   ]
  },
  {
   "cell_type": "markdown",
   "metadata": {},
   "source": [
    "First, let's create the GET request URL. Name your **url**."
   ]
  },
  {
   "cell_type": "code",
   "execution_count": 141,
   "metadata": {
    "collapsed": false,
    "jupyter": {
     "outputs_hidden": false
    },
    "scrolled": true
   },
   "outputs": [],
   "source": [
    "# parameters needed for foursquare url\n",
    "LIMIT = 100 # limit of number of venues returned by Foursquare API\n",
    "radius = 1000 # define radius"
   ]
  },
  {
   "cell_type": "code",
   "execution_count": 142,
   "metadata": {
    "scrolled": true
   },
   "outputs": [
    {
     "data": {
      "text/plain": [
       "'https://api.foursquare.com/v2/venues/explore?&client_id=TE0PG2YHTFN3QLWZM5ET0O0EGQX1XNEJJECQRZJVWXAG4G10&client_secret=CWPXUWBN55NCV0IBFRH3VPMX4JZM4UOKLXL2VWAZT0HU01FM&v=20180605&ll=29.7998786,-95.5111698&radius=1000&limit=100'"
      ]
     },
     "execution_count": 142,
     "metadata": {},
     "output_type": "execute_result"
    }
   ],
   "source": [
    "# create URL\n",
    "url = 'https://api.foursquare.com/v2/venues/explore?&client_id={}&client_secret={}&v={}&ll={},{}&radius={}&limit={}'.format(\n",
    "    CLIENT_ID, \n",
    "    CLIENT_SECRET, \n",
    "    VERSION, \n",
    "    latitude, \n",
    "    longitude, \n",
    "    radius, \n",
    "    LIMIT)\n",
    "url # display URL"
   ]
  },
  {
   "cell_type": "markdown",
   "metadata": {},
   "source": [
    "### Request and preprocess FourSquare Venue and Category Data"
   ]
  },
  {
   "cell_type": "markdown",
   "metadata": {},
   "source": [
    "Send the GET request and examine the resutls"
   ]
  },
  {
   "cell_type": "code",
   "execution_count": 143,
   "metadata": {
    "collapsed": false,
    "jupyter": {
     "outputs_hidden": false
    }
   },
   "outputs": [],
   "source": [
    "Vresults = requests.get(url).json()"
   ]
  },
  {
   "cell_type": "code",
   "execution_count": 144,
   "metadata": {
    "collapsed": false,
    "jupyter": {
     "outputs_hidden": false
    }
   },
   "outputs": [],
   "source": [
    "# run check once and comment out\n",
    "#Vresults"
   ]
  },
  {
   "cell_type": "code",
   "execution_count": 145,
   "metadata": {},
   "outputs": [],
   "source": [
    "# function that extracts the category of the venue\n",
    "def get_category_type(row):\n",
    "    try:\n",
    "        categories_list = row['categories']\n",
    "    except:\n",
    "        categories_list = row['venue.categories']\n",
    "        \n",
    "    if len(categories_list) == 0:\n",
    "        return None\n",
    "    else:\n",
    "        return categories_list[0]['name']"
   ]
  },
  {
   "cell_type": "markdown",
   "metadata": {},
   "source": [
    "Now we are ready to clean the json and structure it into a *pandas* dataframe."
   ]
  },
  {
   "cell_type": "code",
   "execution_count": 147,
   "metadata": {
    "collapsed": false,
    "jupyter": {
     "outputs_hidden": false
    }
   },
   "outputs": [
    {
     "data": {
      "text/html": [
       "<div>\n",
       "<style scoped>\n",
       "    .dataframe tbody tr th:only-of-type {\n",
       "        vertical-align: middle;\n",
       "    }\n",
       "\n",
       "    .dataframe tbody tr th {\n",
       "        vertical-align: top;\n",
       "    }\n",
       "\n",
       "    .dataframe thead th {\n",
       "        text-align: right;\n",
       "    }\n",
       "</style>\n",
       "<table border=\"1\" class=\"dataframe\">\n",
       "  <thead>\n",
       "    <tr style=\"text-align: right;\">\n",
       "      <th></th>\n",
       "      <th>id</th>\n",
       "      <th>name</th>\n",
       "      <th>categories</th>\n",
       "      <th>lat</th>\n",
       "      <th>lng</th>\n",
       "    </tr>\n",
       "  </thead>\n",
       "  <tbody>\n",
       "    <tr>\n",
       "      <td>0</td>\n",
       "      <td>4b5cb48df964a520893f29e3</td>\n",
       "      <td>Texas Rock Gym</td>\n",
       "      <td>Gym / Fitness Center</td>\n",
       "      <td>29.797439</td>\n",
       "      <td>-95.513321</td>\n",
       "    </tr>\n",
       "    <tr>\n",
       "      <td>1</td>\n",
       "      <td>508dac8fe4b0b69fe93e2c86</td>\n",
       "      <td>Tornado Taco</td>\n",
       "      <td>Mexican Restaurant</td>\n",
       "      <td>29.799776</td>\n",
       "      <td>-95.514221</td>\n",
       "    </tr>\n",
       "    <tr>\n",
       "      <td>2</td>\n",
       "      <td>4b5356d8f964a520069827e3</td>\n",
       "      <td>Whataburger</td>\n",
       "      <td>Burger Joint</td>\n",
       "      <td>29.801802</td>\n",
       "      <td>-95.510137</td>\n",
       "    </tr>\n",
       "    <tr>\n",
       "      <td>3</td>\n",
       "      <td>4c5837ad6201e21ec8cb1970</td>\n",
       "      <td>Visible Changes</td>\n",
       "      <td>Health &amp; Beauty Service</td>\n",
       "      <td>29.792277</td>\n",
       "      <td>-95.514417</td>\n",
       "    </tr>\n",
       "    <tr>\n",
       "      <td>4</td>\n",
       "      <td>4c0e802e336220a1ad4fcc77</td>\n",
       "      <td>Casa De Leon</td>\n",
       "      <td>Mexican Restaurant</td>\n",
       "      <td>29.799693</td>\n",
       "      <td>-95.516477</td>\n",
       "    </tr>\n",
       "    <tr>\n",
       "      <td>5</td>\n",
       "      <td>56295aa8498ec369b5bed888</td>\n",
       "      <td>Dollar Tree</td>\n",
       "      <td>Discount Store</td>\n",
       "      <td>29.803567</td>\n",
       "      <td>-95.504475</td>\n",
       "    </tr>\n",
       "    <tr>\n",
       "      <td>6</td>\n",
       "      <td>4f23166a4fde9081ce1264d1</td>\n",
       "      <td>LA Fitness</td>\n",
       "      <td>Gym / Fitness Center</td>\n",
       "      <td>29.805295</td>\n",
       "      <td>-95.503299</td>\n",
       "    </tr>\n",
       "    <tr>\n",
       "      <td>7</td>\n",
       "      <td>5b5b8aef28374e00396954a3</td>\n",
       "      <td>Julie’s Closet</td>\n",
       "      <td>Women's Store</td>\n",
       "      <td>29.802759</td>\n",
       "      <td>-95.506104</td>\n",
       "    </tr>\n",
       "    <tr>\n",
       "      <td>8</td>\n",
       "      <td>4f1b6fafe4b0e6badba9d541</td>\n",
       "      <td>Bargain Liquor Warehouse</td>\n",
       "      <td>Liquor Store</td>\n",
       "      <td>29.804398</td>\n",
       "      <td>-95.517242</td>\n",
       "    </tr>\n",
       "    <tr>\n",
       "      <td>9</td>\n",
       "      <td>4f0cdca4e4b0281b8bc0c303</td>\n",
       "      <td>Stop N' In</td>\n",
       "      <td>Convenience Store</td>\n",
       "      <td>29.804416</td>\n",
       "      <td>-95.517265</td>\n",
       "    </tr>\n",
       "  </tbody>\n",
       "</table>\n",
       "</div>"
      ],
      "text/plain": [
       "                         id                      name  \\\n",
       "0  4b5cb48df964a520893f29e3            Texas Rock Gym   \n",
       "1  508dac8fe4b0b69fe93e2c86              Tornado Taco   \n",
       "2  4b5356d8f964a520069827e3               Whataburger   \n",
       "3  4c5837ad6201e21ec8cb1970           Visible Changes   \n",
       "4  4c0e802e336220a1ad4fcc77              Casa De Leon   \n",
       "5  56295aa8498ec369b5bed888               Dollar Tree   \n",
       "6  4f23166a4fde9081ce1264d1                LA Fitness   \n",
       "7  5b5b8aef28374e00396954a3            Julie’s Closet   \n",
       "8  4f1b6fafe4b0e6badba9d541  Bargain Liquor Warehouse   \n",
       "9  4f0cdca4e4b0281b8bc0c303                Stop N' In   \n",
       "\n",
       "                categories        lat        lng  \n",
       "0     Gym / Fitness Center  29.797439 -95.513321  \n",
       "1       Mexican Restaurant  29.799776 -95.514221  \n",
       "2             Burger Joint  29.801802 -95.510137  \n",
       "3  Health & Beauty Service  29.792277 -95.514417  \n",
       "4       Mexican Restaurant  29.799693 -95.516477  \n",
       "5           Discount Store  29.803567 -95.504475  \n",
       "6     Gym / Fitness Center  29.805295 -95.503299  \n",
       "7            Women's Store  29.802759 -95.506104  \n",
       "8             Liquor Store  29.804398 -95.517242  \n",
       "9        Convenience Store  29.804416 -95.517265  "
      ]
     },
     "execution_count": 147,
     "metadata": {},
     "output_type": "execute_result"
    }
   ],
   "source": [
    "venues =Vresults['response']['groups'][0]['items']\n",
    "    \n",
    "nearby_venues = json_normalize(venues) # flatten JSON\n",
    "\n",
    "# filter columns\n",
    "filtered_columns = ['venue.id', 'venue.name', 'venue.categories', 'venue.location.lat', 'venue.location.lng']\n",
    "nearby_venues =nearby_venues.loc[:, filtered_columns]\n",
    "\n",
    "# filter the category for each row\n",
    "nearby_venues['venue.categories'] = nearby_venues.apply(get_category_type, axis=1)\n",
    "\n",
    "# clean columns\n",
    "nearby_venues.columns = [col.split(\".\")[-1] for col in nearby_venues.columns]\n",
    "\n",
    "nearby_venues.head(10)\n",
    "\n",
    "##  CREATE SAMPLE LISTING OF VENUES FOR A NEIGHBORHOOD IN HOUSTON"
   ]
  },
  {
   "cell_type": "markdown",
   "metadata": {},
   "source": [
    "### **ABOVE --  View FourSquare Venue and Category Data sample for Spring Branch, Houston, TX**\n",
    "The collection of general venue data will be used in the Cluster Analysis for Grouping neighborhoods. This should be relatively straight forward as the class has used Foursquare data for this type of work.\n",
    "\n",
    "#### Venue ranking analyis is the other part of the project\n",
    "\n",
    "A specific category of venues, namely **fast food restaurants** will be rated based on the ratings and \"like\" counts included with venue specific data. Below We will show rating and \"like\" counts for the Venue Whataburger found in the list above as an example. \n",
    "\n",
    "Scroll down through the preprocessing steps to see the results for the Whataburger."
   ]
  },
  {
   "cell_type": "code",
   "execution_count": 134,
   "metadata": {},
   "outputs": [
    {
     "data": {
      "text/plain": [
       "(15, 5)"
      ]
     },
     "execution_count": 134,
     "metadata": {},
     "output_type": "execute_result"
    }
   ],
   "source": [
    "nearby_venues.shape"
   ]
  },
  {
   "cell_type": "code",
   "execution_count": 88,
   "metadata": {
    "button": false,
    "new_sheet": false,
    "run_control": {
     "read_only": false
    }
   },
   "outputs": [],
   "source": [
    "## Venue id\n",
    "venue_id = '4b5356d8f964a520069827e3'"
   ]
  },
  {
   "cell_type": "code",
   "execution_count": 89,
   "metadata": {
    "scrolled": true
   },
   "outputs": [
    {
     "data": {
      "text/plain": [
       "'https://api.foursquare.com/v2/venues/4b5356d8f964a520069827e3?client_id=TE0PG2YHTFN3QLWZM5ET0O0EGQX1XNEJJECQRZJVWXAG4G10&client_secret=CWPXUWBN55NCV0IBFRH3VPMX4JZM4UOKLXL2VWAZT0HU01FM&v=20180605'"
      ]
     },
     "execution_count": 89,
     "metadata": {},
     "output_type": "execute_result"
    }
   ],
   "source": [
    "# create URL\n",
    "#url = 'https://api.foursquare.com/v2/venues/{}?client_id={}&client_secret={}&v={}'.format(  \n",
    "url2 = 'https://api.foursquare.com/v2/venues/{}?client_id={}&client_secret={}&v={}'.format(\n",
    "    venue_id,\n",
    "    CLIENT_ID, \n",
    "    CLIENT_SECRET, \n",
    "    VERSION)\n",
    "url2 # display URL"
   ]
  },
  {
   "cell_type": "markdown",
   "metadata": {
    "button": false,
    "new_sheet": false,
    "run_control": {
     "read_only": false
    }
   },
   "source": [
    "#### Send GET request for result"
   ]
  },
  {
   "cell_type": "code",
   "execution_count": 101,
   "metadata": {
    "button": false,
    "collapsed": false,
    "jupyter": {
     "outputs_hidden": false
    },
    "new_sheet": false,
    "run_control": {
     "read_only": false
    }
   },
   "outputs": [],
   "source": [
    "result = requests.get(url2).json()"
   ]
  },
  {
   "cell_type": "code",
   "execution_count": 148,
   "metadata": {
    "button": false,
    "collapsed": false,
    "jupyter": {
     "outputs_hidden": false
    },
    "new_sheet": false,
    "run_control": {
     "read_only": false
    }
   },
   "outputs": [
    {
     "name": "stdout",
     "output_type": "stream",
     "text": [
      "Whataburger is rated :   7.4 in a 1 to 10 scale and has received :  19 Likes\n"
     ]
    }
   ],
   "source": [
    "#print(result['response']['venue'].keys())\n",
    "vname = result['response']['venue']['name']\n",
    "vrating = result['response']['venue']['rating']\n",
    "vlike_num = result['response']['venue']['likes']['count']\n",
    "print(vname, 'is rated :  ', vrating, 'in a 1 to 10 scale and has received : ', vlike_num, 'Likes')\n",
    "\n",
    "## Venue specific rating results"
   ]
  },
  {
   "cell_type": "markdown",
   "metadata": {},
   "source": [
    "### **ABOVE --  Note FourSquare Venue Rating and \"Like\" counts for a Whataburger venue**\n",
    "\n",
    "The ratings and \"like\" counts are pulled straight from  venue specific data. We will gather and sort both rating and Like data for each restaurant in our evaluation.\n",
    "1. The rating data will be used to determine the top five rated franchises in each neighborhood cluster\n",
    "\n",
    "2. The rating for will be used to identify low rated venues that are similar to franchise venues that belong to the group of high rated franchises determined in the last step of this workflow.\n"
   ]
  },
  {
   "cell_type": "markdown",
   "metadata": {},
   "source": [
    "Note: Getting fast food restaurants as a single category is not a trivial task and will be an important issue to work through in this projct. In our WhataBurger example, the raw download data shows the venue is categorized both as a \"burger joint\" and as \"fast food restaurant\". This is a common occurrence in the FourSquare database and appears to be challenging to always import the \"fast food\" category into the pandas databases for analysis. It is also worth noting that some peculiarities exist in querying venue data within FourSqare. Query results frequently pull more than \"fast food\" venues. \n"
   ]
  },
  {
   "cell_type": "markdown",
   "metadata": {
    "button": false,
    "deletable": true,
    "new_sheet": false,
    "run_control": {
     "read_only": false
    }
   },
   "source": [
    "### This concludes the DATA section\n",
    "\n",
    "An original notebook  created by [Alex Aklson](https://www.linkedin.com/in/aklson/). was used as the goby and altered for this lab"
   ]
  },
  {
   "cell_type": "code",
   "execution_count": null,
   "metadata": {},
   "outputs": [],
   "source": []
  }
 ],
 "metadata": {
  "kernelspec": {
   "display_name": "Python 3",
   "language": "python",
   "name": "python3"
  },
  "language_info": {
   "codemirror_mode": {
    "name": "ipython",
    "version": 3
   },
   "file_extension": ".py",
   "mimetype": "text/x-python",
   "name": "python",
   "nbconvert_exporter": "python",
   "pygments_lexer": "ipython3",
   "version": "3.7.4"
  },
  "widgets": {
   "state": {},
   "version": "1.1.2"
  }
 },
 "nbformat": 4,
 "nbformat_minor": 4
}
